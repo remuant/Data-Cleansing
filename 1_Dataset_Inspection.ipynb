{
 "cells": [
  {
   "cell_type": "markdown",
   "metadata": {},
   "source": [
    "# Dataset Inspection\n",
    "Here a dataset will be inspected in order to establish whether there are any problems which will need to be addressed before it can be used for data analytics purposes, e.g.:\n",
    "* Are there any missing values?\n",
    "* Are the values in the data correctly and consistenly formatted?\n",
    "* Does any category value feature contain invalid categories? This could be typos for example."
   ]
  },
  {
   "cell_type": "code",
   "execution_count": 1,
   "metadata": {},
   "outputs": [],
   "source": [
    "import pandas as pd\n",
    "import numpy as np"
   ]
  },
  {
   "cell_type": "markdown",
   "metadata": {},
   "source": [
    "## 1. Read the dataset into a Pandas DataFrame\n",
    "Pandas DataFrames offer a lot of functionality for inspecting and efficiently manipulating data."
   ]
  },
  {
   "cell_type": "code",
   "execution_count": 2,
   "metadata": {},
   "outputs": [],
   "source": [
    "raw_data = \"./dataset/interview_signup.csv\"\n",
    "#Note: A converter is necessary when reading in the postcode data in order to ensure \n",
    "#      that any leading zeroes are preserved.\n",
    "df = pd.read_csv(raw_data, converters={'postcode': lambda x: str(x)})"
   ]
  },
  {
   "cell_type": "markdown",
   "metadata": {},
   "source": [
    "## 2. Inspect the column names\n",
    "Quick initial check to see that the features we expect are reflected in the DataFrame column names."
   ]
  },
  {
   "cell_type": "code",
   "execution_count": 3,
   "metadata": {},
   "outputs": [
    {
     "name": "stdout",
     "output_type": "stream",
     "text": [
      "Columns: ['original_product_name' 'postcode' 'bundesland' 'total_bonus'\n",
      " 'order_date']\n",
      "Total features: 5\n"
     ]
    }
   ],
   "source": [
    "print(\"Columns:\",df.columns.values) # Get the values from the Index object 'columns' \n",
    "print(\"Total features:\",df.columns.shape[0]) # Get the total number of features: inputs plus target"
   ]
  },
  {
   "cell_type": "markdown",
   "metadata": {},
   "source": [
    "## 3. A quick look at the data:\n",
    "First the DataFrame itself..."
   ]
  },
  {
   "cell_type": "code",
   "execution_count": 4,
   "metadata": {},
   "outputs": [
    {
     "data": {
      "text/html": [
       "<div>\n",
       "<style scoped>\n",
       "    .dataframe tbody tr th:only-of-type {\n",
       "        vertical-align: middle;\n",
       "    }\n",
       "\n",
       "    .dataframe tbody tr th {\n",
       "        vertical-align: top;\n",
       "    }\n",
       "\n",
       "    .dataframe thead th {\n",
       "        text-align: right;\n",
       "    }\n",
       "</style>\n",
       "<table border=\"1\" class=\"dataframe\">\n",
       "  <thead>\n",
       "    <tr style=\"text-align: right;\">\n",
       "      <th></th>\n",
       "      <th>original_product_name</th>\n",
       "      <th>postcode</th>\n",
       "      <th>bundesland</th>\n",
       "      <th>total_bonus</th>\n",
       "      <th>order_date</th>\n",
       "    </tr>\n",
       "  </thead>\n",
       "  <tbody>\n",
       "    <tr>\n",
       "      <th>0</th>\n",
       "      <td>E.ON STROM</td>\n",
       "      <td>53229</td>\n",
       "      <td>Nordrhein-Westfalen</td>\n",
       "      <td>146.0</td>\n",
       "      <td>2018-01-01</td>\n",
       "    </tr>\n",
       "    <tr>\n",
       "      <th>1</th>\n",
       "      <td>E.ON STROM ÖKO</td>\n",
       "      <td>74235.0</td>\n",
       "      <td>Baden-Württemberg</td>\n",
       "      <td>67.0</td>\n",
       "      <td>2018-01-01</td>\n",
       "    </tr>\n",
       "    <tr>\n",
       "      <th>2</th>\n",
       "      <td>E.ON STROM ÖKO 24</td>\n",
       "      <td>45257</td>\n",
       "      <td>Nordrhein-Westfalen</td>\n",
       "      <td>123.0</td>\n",
       "      <td>2018-01-01</td>\n",
       "    </tr>\n",
       "    <tr>\n",
       "      <th>3</th>\n",
       "      <td>E.ON STROM</td>\n",
       "      <td>64395</td>\n",
       "      <td>Hessen</td>\n",
       "      <td>159.0</td>\n",
       "      <td>2018-01-01</td>\n",
       "    </tr>\n",
       "    <tr>\n",
       "      <th>4</th>\n",
       "      <td>E.ON STROM 24</td>\n",
       "      <td>36039</td>\n",
       "      <td>Hessen</td>\n",
       "      <td>116.0</td>\n",
       "      <td>2018-01-01</td>\n",
       "    </tr>\n",
       "    <tr>\n",
       "      <th>...</th>\n",
       "      <td>...</td>\n",
       "      <td>...</td>\n",
       "      <td>...</td>\n",
       "      <td>...</td>\n",
       "      <td>...</td>\n",
       "    </tr>\n",
       "    <tr>\n",
       "      <th>318340</th>\n",
       "      <td>E.ON STROM 24</td>\n",
       "      <td>49610</td>\n",
       "      <td>Niedersachsen</td>\n",
       "      <td>147.0</td>\n",
       "      <td>2018-12-31</td>\n",
       "    </tr>\n",
       "    <tr>\n",
       "      <th>318341</th>\n",
       "      <td>E.ON STROM</td>\n",
       "      <td>4916.0</td>\n",
       "      <td>NaN</td>\n",
       "      <td>142.0</td>\n",
       "      <td>2018-12-31</td>\n",
       "    </tr>\n",
       "    <tr>\n",
       "      <th>318342</th>\n",
       "      <td>E.ON STROM</td>\n",
       "      <td>77972.0</td>\n",
       "      <td>Baden-Württemberg</td>\n",
       "      <td>48.0</td>\n",
       "      <td>2018-12-31</td>\n",
       "    </tr>\n",
       "    <tr>\n",
       "      <th>318343</th>\n",
       "      <td>E.ON STROM ÖKO 24</td>\n",
       "      <td>91466</td>\n",
       "      <td>Bayern</td>\n",
       "      <td>238.0</td>\n",
       "      <td>2018-12-31</td>\n",
       "    </tr>\n",
       "    <tr>\n",
       "      <th>318344</th>\n",
       "      <td>E.ON STROM PUR</td>\n",
       "      <td>88145</td>\n",
       "      <td>Bayern</td>\n",
       "      <td>125.0</td>\n",
       "      <td>2018-12-31</td>\n",
       "    </tr>\n",
       "  </tbody>\n",
       "</table>\n",
       "<p>318345 rows × 5 columns</p>\n",
       "</div>"
      ],
      "text/plain": [
       "       original_product_name postcode           bundesland  total_bonus  \\\n",
       "0                 E.ON STROM    53229  Nordrhein-Westfalen        146.0   \n",
       "1             E.ON STROM ÖKO  74235.0    Baden-Württemberg         67.0   \n",
       "2          E.ON STROM ÖKO 24    45257  Nordrhein-Westfalen        123.0   \n",
       "3                 E.ON STROM    64395               Hessen        159.0   \n",
       "4              E.ON STROM 24    36039               Hessen        116.0   \n",
       "...                      ...      ...                  ...          ...   \n",
       "318340         E.ON STROM 24    49610        Niedersachsen        147.0   \n",
       "318341            E.ON STROM   4916.0                  NaN        142.0   \n",
       "318342            E.ON STROM  77972.0    Baden-Württemberg         48.0   \n",
       "318343     E.ON STROM ÖKO 24    91466               Bayern        238.0   \n",
       "318344        E.ON STROM PUR    88145               Bayern        125.0   \n",
       "\n",
       "        order_date  \n",
       "0       2018-01-01  \n",
       "1       2018-01-01  \n",
       "2       2018-01-01  \n",
       "3       2018-01-01  \n",
       "4       2018-01-01  \n",
       "...            ...  \n",
       "318340  2018-12-31  \n",
       "318341  2018-12-31  \n",
       "318342  2018-12-31  \n",
       "318343  2018-12-31  \n",
       "318344  2018-12-31  \n",
       "\n",
       "[318345 rows x 5 columns]"
      ]
     },
     "execution_count": 4,
     "metadata": {},
     "output_type": "execute_result"
    }
   ],
   "source": [
    "df"
   ]
  },
  {
   "cell_type": "markdown",
   "metadata": {},
   "source": [
    "A quick visual inspection of the data shows that some of the postcode data has been recorded as a floating point number, this will have to be addressed during data cleansing.\n",
    "\n",
    "Now let's get a concise summary of the DataFrame:\n",
    "\n",
    "* index dtype,\n",
    "* columns,\n",
    "* non-null values and \n",
    "* memory usage"
   ]
  },
  {
   "cell_type": "code",
   "execution_count": 5,
   "metadata": {},
   "outputs": [
    {
     "name": "stdout",
     "output_type": "stream",
     "text": [
      "<class 'pandas.core.frame.DataFrame'>\n",
      "RangeIndex: 318345 entries, 0 to 318344\n",
      "Data columns (total 5 columns):\n",
      " #   Column                 Non-Null Count   Dtype  \n",
      "---  ------                 --------------   -----  \n",
      " 0   original_product_name  318345 non-null  object \n",
      " 1   postcode               318345 non-null  object \n",
      " 2   bundesland             288813 non-null  object \n",
      " 3   total_bonus            318345 non-null  float64\n",
      " 4   order_date             318345 non-null  object \n",
      "dtypes: float64(1), object(4)\n",
      "memory usage: 12.1+ MB\n"
     ]
    }
   ],
   "source": [
    "df.info()"
   ]
  },
  {
   "cell_type": "markdown",
   "metadata": {},
   "source": [
    "Looks as though there are missing values in the **'bundesland'** column. Let's just double-check the null value count with another function:"
   ]
  },
  {
   "cell_type": "code",
   "execution_count": 6,
   "metadata": {},
   "outputs": [
    {
     "data": {
      "text/plain": [
       "original_product_name        0\n",
       "postcode                     0\n",
       "bundesland               29532\n",
       "total_bonus                  0\n",
       "order_date                   0\n",
       "dtype: int64"
      ]
     },
     "execution_count": 6,
     "metadata": {},
     "output_type": "execute_result"
    }
   ],
   "source": [
    "# Count missing values in the dataset for each feature\n",
    "df.isnull().sum()"
   ]
  },
  {
   "cell_type": "markdown",
   "metadata": {},
   "source": [
    "What proportion of the dataset is affected by missing values?"
   ]
  },
  {
   "cell_type": "code",
   "execution_count": 7,
   "metadata": {},
   "outputs": [
    {
     "data": {
      "text/plain": [
       "0.09276728078028554"
      ]
     },
     "execution_count": 7,
     "metadata": {},
     "output_type": "execute_result"
    }
   ],
   "source": [
    "# Proportion of 'bundesland' feature with missing value\n",
    "df.isnull().sum()[2] / df.shape[0]"
   ]
  },
  {
   "cell_type": "markdown",
   "metadata": {},
   "source": [
    "About 10% of the data is affected."
   ]
  },
  {
   "cell_type": "markdown",
   "metadata": {},
   "source": [
    "## 4. Inspecting the individual features\n",
    "\n",
    "* **original_product_name:** Product the customer signed up to\n",
    "* **postcode:** Postcode of the customer (5 digits with 0-9)\n",
    "* **bundesland:** The state the customer lives\n",
    "* **total_bonus:** The bonus amount we provided (reduces the first year price)\n",
    "* **order_date:** The date that the customer ordered the product\n",
    "\n",
    "We already know that we have missing values in the **'bundesland'** feature. Let's see if there are any other issues..."
   ]
  },
  {
   "cell_type": "markdown",
   "metadata": {},
   "source": [
    "### Feature: original_product_name\n",
    "This is a categorical feature, let's see what categories are present in the feature data."
   ]
  },
  {
   "cell_type": "code",
   "execution_count": 8,
   "metadata": {},
   "outputs": [
    {
     "data": {
      "text/plain": [
       "array(['E.ON STROM', 'E.ON STROM ÖKO', 'E.ON STROM ÖKO 24',\n",
       "       'E.ON STROM 24', 'E.ON STROM PUR', 'E.ON STROM Ã–KO',\n",
       "       'E.ON STROM 24 24 24', 'E.ON STROM 24 24', 'E.ON STROM ÖO',\n",
       "       'E.ON STROM 24 24 24 24 24 24 24'], dtype=object)"
      ]
     },
     "execution_count": 8,
     "metadata": {},
     "output_type": "execute_result"
    }
   ],
   "source": [
    "df['original_product_name'].unique()"
   ]
  },
  {
   "cell_type": "markdown",
   "metadata": {},
   "source": [
    "Looks like there are a few typos! Let's check the incidence of all these categories in the dataset."
   ]
  },
  {
   "cell_type": "code",
   "execution_count": 9,
   "metadata": {},
   "outputs": [
    {
     "data": {
      "text/plain": [
       "E.ON STROM                         164473\n",
       "E.ON STROM 24                       69363\n",
       "E.ON STROM ÖKO                      55194\n",
       "E.ON STROM ÖKO 24                   25440\n",
       "E.ON STROM PUR                       3650\n",
       "E.ON STROM Ã–KO                       206\n",
       "E.ON STROM 24 24                       14\n",
       "E.ON STROM 24 24 24                     2\n",
       "E.ON STROM 24 24 24 24 24 24 24         2\n",
       "E.ON STROM ÖO                           1\n",
       "Name: original_product_name, dtype: int64"
      ]
     },
     "execution_count": 9,
     "metadata": {},
     "output_type": "execute_result"
    },
    {
     "data": {
      "image/png": "[encoded data removed]",
      "text/plain": [
       "<Figure size 432x288 with 1 Axes>"
      ]
     },
     "metadata": {
      "needs_background": "light"
     },
     "output_type": "display_data"
    }
   ],
   "source": [
    "df['original_product_name'].value_counts().plot.bar()\n",
    "df['original_product_name'].value_counts()"
   ]
  },
  {
   "cell_type": "markdown",
   "metadata": {},
   "source": [
    "The low incidence of 5 of these tarifs is an indication that they may be invalid data.\n",
    "\n",
    "A quick look here: https://www.verivox.de/strom/anbieter/eon/ reveals the following tarifs to exist:\n",
    "* E.ON STROM\n",
    "* E.ON STROM 24\n",
    "* E.ON STROM PUR\n",
    "* E.ON STROM ÖKO\n",
    "* E.ON STROM ÖKO 24\n",
    "\n",
    "It can be concluded that the other tarif categories are typos. **Cleansing required!!**"
   ]
  },
  {
   "cell_type": "markdown",
   "metadata": {},
   "source": [
    "### Feature: postcode\n",
    "This is a categorical feature, let's see what categories are present in the feature data."
   ]
  },
  {
   "cell_type": "code",
   "execution_count": 10,
   "metadata": {},
   "outputs": [
    {
     "data": {
      "text/plain": [
       "array(['53229', '74235.0', '45257', ..., '79424.0', '27246.0', '67473.0'],\n",
       "      dtype=object)"
      ]
     },
     "execution_count": 10,
     "metadata": {},
     "output_type": "execute_result"
    }
   ],
   "source": [
    "df['postcode'].unique()"
   ]
  },
  {
   "cell_type": "markdown",
   "metadata": {},
   "source": [
    "Not really practical, but once again we can see the issue with some PLZ having been recorded as floating point numbers!\n",
    "\n",
    "Let's try assessing the validity of the PLZ in the postcode feature by checking that they are 5 digits long and contain only numbers.\n",
    "\n",
    "Any invalid PLZ data will be extracted for inspection.\n",
    "\n",
    "**Note:** the information here: https://www.python-forum.de/viewtopic.php?t=41275 was helpful in terms of creating checks on PLZ data."
   ]
  },
  {
   "cell_type": "code",
   "execution_count": 11,
   "metadata": {},
   "outputs": [],
   "source": [
    "# import a helper for working with PLZ data\n",
    "import utility.plz_helper as plz_helper\n",
    "\n",
    "#Create a mask by applying list comprehension to check the validity of each PLZ in the postcode column\n",
    "mask = [plz_helper.check_invalid_plz_format(str(x)) for x in df['postcode']]\n",
    "#mask"
   ]
  },
  {
   "cell_type": "markdown",
   "metadata": {},
   "source": [
    "Now we'll extract the invalid data (not comforming to PLZ format) to a DataFrame and perform a quick visual inspection to see whether we can spot any problems in the data for the postcode feature."
   ]
  },
  {
   "cell_type": "code",
   "execution_count": 12,
   "metadata": {},
   "outputs": [
    {
     "data": {
      "text/html": [
       "<div>\n",
       "<style scoped>\n",
       "    .dataframe tbody tr th:only-of-type {\n",
       "        vertical-align: middle;\n",
       "    }\n",
       "\n",
       "    .dataframe tbody tr th {\n",
       "        vertical-align: top;\n",
       "    }\n",
       "\n",
       "    .dataframe thead th {\n",
       "        text-align: right;\n",
       "    }\n",
       "</style>\n",
       "<table border=\"1\" class=\"dataframe\">\n",
       "  <thead>\n",
       "    <tr style=\"text-align: right;\">\n",
       "      <th></th>\n",
       "      <th>original_product_name</th>\n",
       "      <th>postcode</th>\n",
       "      <th>bundesland</th>\n",
       "      <th>total_bonus</th>\n",
       "      <th>order_date</th>\n",
       "    </tr>\n",
       "  </thead>\n",
       "  <tbody>\n",
       "    <tr>\n",
       "      <th>24</th>\n",
       "      <td>E.ON STROM</td>\n",
       "      <td>4319.0</td>\n",
       "      <td>Sachsen</td>\n",
       "      <td>55.0</td>\n",
       "      <td>2018-01-01</td>\n",
       "    </tr>\n",
       "    <tr>\n",
       "      <th>26</th>\n",
       "      <td>E.ON STROM 24</td>\n",
       "      <td>7318.0</td>\n",
       "      <td>NaN</td>\n",
       "      <td>154.0</td>\n",
       "      <td>2018-01-01</td>\n",
       "    </tr>\n",
       "    <tr>\n",
       "      <th>32</th>\n",
       "      <td>E.ON STROM</td>\n",
       "      <td>8315.0</td>\n",
       "      <td>Sachsen</td>\n",
       "      <td>144.0</td>\n",
       "      <td>2018-01-01</td>\n",
       "    </tr>\n",
       "    <tr>\n",
       "      <th>49</th>\n",
       "      <td>E.ON STROM</td>\n",
       "      <td>6385.0</td>\n",
       "      <td>NaN</td>\n",
       "      <td>156.0</td>\n",
       "      <td>2018-01-01</td>\n",
       "    </tr>\n",
       "    <tr>\n",
       "      <th>60</th>\n",
       "      <td>E.ON STROM ÖKO</td>\n",
       "      <td>7407</td>\n",
       "      <td>Thüringen</td>\n",
       "      <td>96.0</td>\n",
       "      <td>2018-01-01</td>\n",
       "    </tr>\n",
       "    <tr>\n",
       "      <th>...</th>\n",
       "      <td>...</td>\n",
       "      <td>...</td>\n",
       "      <td>...</td>\n",
       "      <td>...</td>\n",
       "      <td>...</td>\n",
       "    </tr>\n",
       "    <tr>\n",
       "      <th>318304</th>\n",
       "      <td>E.ON STROM</td>\n",
       "      <td>7751</td>\n",
       "      <td>Thüringen</td>\n",
       "      <td>162.0</td>\n",
       "      <td>2018-12-31</td>\n",
       "    </tr>\n",
       "    <tr>\n",
       "      <th>318309</th>\n",
       "      <td>E.ON STROM</td>\n",
       "      <td>4249</td>\n",
       "      <td>Sachsen</td>\n",
       "      <td>203.0</td>\n",
       "      <td>2018-12-31</td>\n",
       "    </tr>\n",
       "    <tr>\n",
       "      <th>318314</th>\n",
       "      <td>E.ON STROM</td>\n",
       "      <td>7973.0</td>\n",
       "      <td>Thüringen</td>\n",
       "      <td>200.0</td>\n",
       "      <td>2018-12-31</td>\n",
       "    </tr>\n",
       "    <tr>\n",
       "      <th>318321</th>\n",
       "      <td>E.ON STROM</td>\n",
       "      <td>8393</td>\n",
       "      <td>Sachsen</td>\n",
       "      <td>121.0</td>\n",
       "      <td>2018-12-31</td>\n",
       "    </tr>\n",
       "    <tr>\n",
       "      <th>318341</th>\n",
       "      <td>E.ON STROM</td>\n",
       "      <td>4916.0</td>\n",
       "      <td>NaN</td>\n",
       "      <td>142.0</td>\n",
       "      <td>2018-12-31</td>\n",
       "    </tr>\n",
       "  </tbody>\n",
       "</table>\n",
       "<p>16616 rows × 5 columns</p>\n",
       "</div>"
      ],
      "text/plain": [
       "       original_product_name postcode bundesland  total_bonus  order_date\n",
       "24                E.ON STROM   4319.0    Sachsen         55.0  2018-01-01\n",
       "26             E.ON STROM 24   7318.0        NaN        154.0  2018-01-01\n",
       "32                E.ON STROM   8315.0    Sachsen        144.0  2018-01-01\n",
       "49                E.ON STROM   6385.0        NaN        156.0  2018-01-01\n",
       "60            E.ON STROM ÖKO     7407  Thüringen         96.0  2018-01-01\n",
       "...                      ...      ...        ...          ...         ...\n",
       "318304            E.ON STROM     7751  Thüringen        162.0  2018-12-31\n",
       "318309            E.ON STROM     4249    Sachsen        203.0  2018-12-31\n",
       "318314            E.ON STROM   7973.0  Thüringen        200.0  2018-12-31\n",
       "318321            E.ON STROM     8393    Sachsen        121.0  2018-12-31\n",
       "318341            E.ON STROM   4916.0        NaN        142.0  2018-12-31\n",
       "\n",
       "[16616 rows x 5 columns]"
      ]
     },
     "execution_count": 12,
     "metadata": {},
     "output_type": "execute_result"
    }
   ],
   "source": [
    "result_df = df[mask]\n",
    "result_df"
   ]
  },
  {
   "cell_type": "markdown",
   "metadata": {},
   "source": [
    "The invalid postcode data appears to be 4 digits rather than 5 in length.\n",
    "\n",
    "Could the problem be that leading zeroes are missing? After the reunification of Germany some of the _new states_ received PLZ with a leading 0 (https://en.wikipedia.org/wiki/List_of_postal_codes_in_Germany).\n",
    "\n",
    "Let's check which states (Bundesland) are affected by this problem."
   ]
  },
  {
   "cell_type": "code",
   "execution_count": 13,
   "metadata": {},
   "outputs": [
    {
     "data": {
      "text/plain": [
       "array(['Sachsen', nan, 'Thüringen', 'Sachsen-Anhalt', 'Brandenburg'],\n",
       "      dtype=object)"
      ]
     },
     "execution_count": 13,
     "metadata": {},
     "output_type": "execute_result"
    }
   ],
   "source": [
    "result_df['bundesland'].unique()"
   ]
  },
  {
   "cell_type": "markdown",
   "metadata": {},
   "source": [
    "This 4 digit PLZ problem only occurs only with new states which have PLZ with a leading 0.\n",
    "\n",
    "Note: This type of error in the data is typical when a mask has been used for data entry which interprets the PLZ \n",
    "as a number (int / float) and therefore ignores the leading zero.  Care was taken at the start of this notebook to ensure that this leading 0 wasn't removed when reading the data into the DataFrame by use of a converter. It can therefore be concluded that the error had already been introduced into the data prior to its use here.\n",
    "\n",
    "More cleansing needed here: the 4 digit cases will need to have '0' added to start.\n",
    "\n",
    "Now let's check for any further problems. The postcode data should only contain digits 0-9, is that the case?\n",
    "Using a helper function defined in the utility.plz_helper script we can check whether any alphabetic characters are present:"
   ]
  },
  {
   "cell_type": "code",
   "execution_count": 14,
   "metadata": {},
   "outputs": [
    {
     "data": {
      "text/html": [
       "<div>\n",
       "<style scoped>\n",
       "    .dataframe tbody tr th:only-of-type {\n",
       "        vertical-align: middle;\n",
       "    }\n",
       "\n",
       "    .dataframe tbody tr th {\n",
       "        vertical-align: top;\n",
       "    }\n",
       "\n",
       "    .dataframe thead th {\n",
       "        text-align: right;\n",
       "    }\n",
       "</style>\n",
       "<table border=\"1\" class=\"dataframe\">\n",
       "  <thead>\n",
       "    <tr style=\"text-align: right;\">\n",
       "      <th></th>\n",
       "      <th>original_product_name</th>\n",
       "      <th>postcode</th>\n",
       "      <th>bundesland</th>\n",
       "      <th>total_bonus</th>\n",
       "      <th>order_date</th>\n",
       "    </tr>\n",
       "  </thead>\n",
       "  <tbody>\n",
       "    <tr>\n",
       "      <th>266922</th>\n",
       "      <td>E.ON STROM</td>\n",
       "      <td>92696JAVAS</td>\n",
       "      <td>NaN</td>\n",
       "      <td>97.0</td>\n",
       "      <td>2018-11-03</td>\n",
       "    </tr>\n",
       "  </tbody>\n",
       "</table>\n",
       "</div>"
      ],
      "text/plain": [
       "       original_product_name    postcode bundesland  total_bonus  order_date\n",
       "266922            E.ON STROM  92696JAVAS        NaN         97.0  2018-11-03"
      ]
     },
     "execution_count": 14,
     "metadata": {},
     "output_type": "execute_result"
    }
   ],
   "source": [
    "mask = [plz_helper.contains_letter_number(x) for x in result_df['postcode']]\n",
    "result_df = result_df[mask]\n",
    "result_df"
   ]
  },
  {
   "cell_type": "markdown",
   "metadata": {},
   "source": [
    "Looks like another issue to be addressed is the presence of alphabetic characters in some postcode data."
   ]
  },
  {
   "cell_type": "markdown",
   "metadata": {},
   "source": [
    "### Feature: bundesland\n",
    "This is a categorical feature, let's see what categories are present in the feature data."
   ]
  },
  {
   "cell_type": "code",
   "execution_count": 15,
   "metadata": {},
   "outputs": [
    {
     "data": {
      "text/plain": [
       "array(['Nordrhein-Westfalen', 'Baden-Württemberg', 'Hessen', 'Berlin',\n",
       "       'Schleswig-Holstein', 'Niedersachsen', nan, 'Bayern',\n",
       "       'Rheinland-Pfalz', 'Sachsen', 'Bremen', 'Brandenburg', 'Thüringen',\n",
       "       'Saarland', 'Mecklenburg-Vorpommern', 'Hamburg', 'Sachsen-Anhalt'],\n",
       "      dtype=object)"
      ]
     },
     "execution_count": 15,
     "metadata": {},
     "output_type": "execute_result"
    }
   ],
   "source": [
    "df['bundesland'].unique()"
   ]
  },
  {
   "cell_type": "markdown",
   "metadata": {},
   "source": [
    "Those look correct. The nan occurs due to missing values for this feature (which we already discovered).\n",
    "\n",
    "Let's explore this feature a bit more to get a feel for the way in which its values are distributed."
   ]
  },
  {
   "cell_type": "code",
   "execution_count": 16,
   "metadata": {},
   "outputs": [
    {
     "data": {
      "text/plain": [
       "Nordrhein-Westfalen       68541\n",
       "Bayern                    50741\n",
       "Baden-Württemberg         35447\n",
       "Niedersachsen             34885\n",
       "Hessen                    19898\n",
       "Rheinland-Pfalz           16348\n",
       "Schleswig-Holstein        12961\n",
       "Brandenburg                8799\n",
       "Sachsen                    8642\n",
       "Berlin                     8262\n",
       "Thüringen                  5972\n",
       "Mecklenburg-Vorpommern     5480\n",
       "Sachsen-Anhalt             4455\n",
       "Hamburg                    3953\n",
       "Saarland                   2989\n",
       "Bremen                     1440\n",
       "Name: bundesland, dtype: int64"
      ]
     },
     "execution_count": 16,
     "metadata": {},
     "output_type": "execute_result"
    },
    {
     "data": {
      "image/png": "[encoded data removed]",
      "text/plain": [
       "<Figure size 432x288 with 1 Axes>"
      ]
     },
     "metadata": {
      "needs_background": "light"
     },
     "output_type": "display_data"
    }
   ],
   "source": [
    "df['bundesland'].value_counts().plot.bar()\n",
    "df['bundesland'].value_counts()"
   ]
  },
  {
   "cell_type": "markdown",
   "metadata": {},
   "source": [
    "That all looks sensible, for example NRW is the most populous state in Germany, and here we see it has the largest representation in dataset."
   ]
  },
  {
   "cell_type": "markdown",
   "metadata": {},
   "source": [
    "### Feature: total_bonus\n",
    "This is real valued feature. Given that it is a customer bonus we expect this value to be 0 at a minimum, otherwise positive. Without any other background information it is not possible to say whether the distribution of its values is valid or if the max value observed is correct. We already know that there are no missing values for this feature. \n",
    "\n",
    "Now some descriptive statistics will be generated:"
   ]
  },
  {
   "cell_type": "code",
   "execution_count": 17,
   "metadata": {},
   "outputs": [
    {
     "data": {
      "text/html": [
       "<div>\n",
       "<style scoped>\n",
       "    .dataframe tbody tr th:only-of-type {\n",
       "        vertical-align: middle;\n",
       "    }\n",
       "\n",
       "    .dataframe tbody tr th {\n",
       "        vertical-align: top;\n",
       "    }\n",
       "\n",
       "    .dataframe thead th {\n",
       "        text-align: right;\n",
       "    }\n",
       "</style>\n",
       "<table border=\"1\" class=\"dataframe\">\n",
       "  <thead>\n",
       "    <tr style=\"text-align: right;\">\n",
       "      <th></th>\n",
       "      <th>total_bonus</th>\n",
       "    </tr>\n",
       "  </thead>\n",
       "  <tbody>\n",
       "    <tr>\n",
       "      <th>count</th>\n",
       "      <td>318345.000000</td>\n",
       "    </tr>\n",
       "    <tr>\n",
       "      <th>mean</th>\n",
       "      <td>150.590275</td>\n",
       "    </tr>\n",
       "    <tr>\n",
       "      <th>std</th>\n",
       "      <td>53.692176</td>\n",
       "    </tr>\n",
       "    <tr>\n",
       "      <th>min</th>\n",
       "      <td>0.000000</td>\n",
       "    </tr>\n",
       "    <tr>\n",
       "      <th>25%</th>\n",
       "      <td>112.000000</td>\n",
       "    </tr>\n",
       "    <tr>\n",
       "      <th>50%</th>\n",
       "      <td>149.000000</td>\n",
       "    </tr>\n",
       "    <tr>\n",
       "      <th>75%</th>\n",
       "      <td>182.000000</td>\n",
       "    </tr>\n",
       "    <tr>\n",
       "      <th>max</th>\n",
       "      <td>570.000000</td>\n",
       "    </tr>\n",
       "  </tbody>\n",
       "</table>\n",
       "</div>"
      ],
      "text/plain": [
       "         total_bonus\n",
       "count  318345.000000\n",
       "mean      150.590275\n",
       "std        53.692176\n",
       "min         0.000000\n",
       "25%       112.000000\n",
       "50%       149.000000\n",
       "75%       182.000000\n",
       "max       570.000000"
      ]
     },
     "execution_count": 17,
     "metadata": {},
     "output_type": "execute_result"
    }
   ],
   "source": [
    "df.describe()"
   ]
  },
  {
   "cell_type": "markdown",
   "metadata": {},
   "source": [
    "Looks fine, no issues to be addressed."
   ]
  },
  {
   "cell_type": "markdown",
   "metadata": {},
   "source": [
    "### Feature: order_date\n",
    "We'll treat this ordinal feature like a categorical feature. Let's see what _categories_ are present and whether they look sensible.\n",
    "\n",
    "See here for some discussion about what type of data a date is: https://stats.stackexchange.com/questions/332688/what-type-of-data-are-dates"
   ]
  },
  {
   "cell_type": "code",
   "execution_count": 18,
   "metadata": {},
   "outputs": [
    {
     "data": {
      "text/plain": [
       "array(['2018-01-01', '2018-01-02', '2018-01-03', '2018-01-04',\n",
       "       '2018-01-05', '2018-01-06', '2018-01-07', '2018-01-08',\n",
       "       '2018-01-09', '2018-01-10', '2018-01-11', '2018-01-12',\n",
       "       '2018-01-13', '2018-01-14', '2018-01-15', '2018-01-16',\n",
       "       '2018-01-17', '2018-01-18', '2018-01-19', '2018-01-20',\n",
       "       '2018-01-21', '2018-01-22', '2018-01-23', '2018-01-24',\n",
       "       '2018-01-25', '2018-01-26', '2018-01-27', '2018-01-28',\n",
       "       '2018-01-29', '2018-01-30', '2018-01-31', '2018-02-01',\n",
       "       '2018-02-02', '2018-02-03', '2018-02-04', '2018-02-05',\n",
       "       '2018-02-06', '2018-02-07', '2018-02-08', '2018-02-09',\n",
       "       '2018-02-10', '2018-02-11', '2018-02-12', '2018-02-13',\n",
       "       '2018-02-14', '2018-02-15', '2018-02-16', '2018-02-17',\n",
       "       '2018-02-18', '2018-02-19', '2018-02-20', '2018-02-21',\n",
       "       '2018-02-22', '2018-02-23', '2018-02-24', '2018-02-25',\n",
       "       '2018-02-26', '2018-02-27', '2018-02-28', '2018-03-01',\n",
       "       '2018-03-02', '2018-03-03', '2018-03-04', '2018-03-05',\n",
       "       '2018-03-06', '2018-03-07', '2018-03-08', '2018-03-09',\n",
       "       '2018-03-10', '2018-03-11', '2018-03-12', '2018-03-13',\n",
       "       '2018-03-14', '2018-03-15', '2018-03-16', '2018-03-17',\n",
       "       '2018-03-18', '2018-03-19', '2018-03-20', '2018-03-21',\n",
       "       '2018-03-22', '2018-03-23', '2018-03-24', '2018-03-25',\n",
       "       '2018-03-26', '2018-03-27', '2018-03-28', '2018-03-29',\n",
       "       '2018-03-30', '2018-03-31', '2018-04-01', '2018-04-02',\n",
       "       '2018-04-03', '2018-04-04', '2018-04-05', '2018-04-06',\n",
       "       '2018-04-07', '2018-04-08', '2018-04-09', '2018-04-10',\n",
       "       '2018-04-11', '2018-04-12', '2018-04-13', '2018-04-14',\n",
       "       '2018-04-15', '2018-04-16', '2018-04-17', '2018-04-18',\n",
       "       '2018-04-19', '2018-04-20', '2018-04-21', '2018-04-22',\n",
       "       '2018-04-23', '2018-04-24', '2018-04-25', '2018-04-26',\n",
       "       '2018-04-27', '2018-04-28', '2018-04-29', '2018-04-30',\n",
       "       '2018-05-01', '2018-05-02', '2018-05-03', '2018-05-04',\n",
       "       '2018-05-05', '2018-05-06', '2018-05-07', '2018-05-08',\n",
       "       '2018-05-09', '2018-05-10', '2018-05-11', '2018-05-12',\n",
       "       '2018-05-13', '2018-05-14', '2018-05-15', '2018-05-16',\n",
       "       '2018-05-17', '2018-05-18', '2018-05-19', '2018-05-20',\n",
       "       '2018-05-21', '2018-05-22', '2018-05-23', '2018-05-24',\n",
       "       '2018-05-25', '2018-05-26', '2018-05-27', '2018-05-28',\n",
       "       '2018-05-29', '2018-05-30', '2018-05-31', '2018-06-01',\n",
       "       '2018-06-02', '2018-06-03', '2018-06-04', '2018-06-05',\n",
       "       '2018-06-06', '2018-06-07', '2018-06-08', '2018-06-09',\n",
       "       '2018-06-10', '2018-06-11', '2018-06-12', '2018-06-13',\n",
       "       '2018-06-14', '2018-06-15', '2018-06-16', '2018-06-17',\n",
       "       '2018-06-18', '2018-06-19', '2018-06-20', '2018-06-21',\n",
       "       '2018-06-22', '2018-06-23', '2018-06-24', '2018-06-25',\n",
       "       '2018-06-26', '2018-06-27', '2018-06-28', '2018-06-29',\n",
       "       '2018-06-30', '2018-07-01', '2018-07-02', '2018-07-03',\n",
       "       '2018-07-04', '2018-07-05', '2018-07-06', '2018-07-07',\n",
       "       '2018-07-08', '2018-07-09', '2018-07-10', '2018-07-11',\n",
       "       '2018-07-12', '2018-07-13', '2018-07-14', '2018-07-15',\n",
       "       '2018-07-16', '2018-07-17', '2018-07-18', '2018-07-19',\n",
       "       '2018-07-20', '2018-07-21', '2018-07-22', '2018-07-23',\n",
       "       '2018-07-24', '2018-07-25', '2018-07-26', '2018-07-27',\n",
       "       '2018-07-28', '2018-07-29', '2018-07-30', '2018-07-31',\n",
       "       '2018-08-01', '2018-08-02', '2018-08-03', '2018-08-04',\n",
       "       '2018-08-05', '2018-08-06', '2018-08-07', '2018-08-08',\n",
       "       '2018-08-09', '2018-08-10', '2018-08-11', '2018-08-12',\n",
       "       '2018-08-13', '2018-08-14', '2018-08-15', '2018-08-16',\n",
       "       '2018-08-17', '2018-08-18', '2018-08-19', '2018-08-20',\n",
       "       '2018-08-21', '2018-08-22', '2018-08-23', '2018-08-24',\n",
       "       '2018-08-25', '2018-08-26', '2018-08-27', '2018-08-28',\n",
       "       '2018-08-29', '2018-08-30', '2018-08-31', '2018-09-01',\n",
       "       '2018-09-02', '2018-09-03', '2018-09-04', '2018-09-05',\n",
       "       '2018-09-06', '2018-09-07', '2018-09-08', '2018-09-09',\n",
       "       '2018-09-10', '2018-09-11', '2018-09-12', '2018-09-13',\n",
       "       '2018-09-14', '2018-09-15', '2018-09-16', '2018-09-17',\n",
       "       '2018-09-18', '2018-09-19', '2018-09-20', '2018-09-21',\n",
       "       '2018-09-22', '2018-09-23', '2018-09-24', '2018-09-25',\n",
       "       '2018-09-26', '2018-09-27', '2018-09-28', '2018-09-29',\n",
       "       '2018-09-30', '2018-10-01', '2018-10-02', '2018-10-03',\n",
       "       '2018-10-04', '2018-10-05', '2018-10-06', '2018-10-07',\n",
       "       '2018-10-08', '2018-10-09', '2018-10-10', '2018-10-11',\n",
       "       '2018-10-12', '2018-10-13', '2018-10-14', '2018-10-15',\n",
       "       '2018-10-16', '2018-10-17', '2018-10-18', '2018-10-19',\n",
       "       '2018-10-20', '2018-10-21', '2018-10-22', '2018-10-23',\n",
       "       '2018-10-24', '2018-10-25', '2018-10-26', '2018-10-27',\n",
       "       '2018-10-28', '2018-10-29', '2018-10-30', '2018-10-31',\n",
       "       '2018-11-01', '2018-11-02', '2018-11-03', '2018-11-04',\n",
       "       '2018-11-05', '2018-11-06', '2018-11-07', '2018-11-08',\n",
       "       '2018-11-09', '2018-11-10', '2018-11-11', '2018-11-12',\n",
       "       '2018-11-13', '2018-11-14', '2018-11-15', '2018-11-16',\n",
       "       '2018-11-17', '2018-11-18', '2018-11-19', '2018-11-20',\n",
       "       '2018-11-21', '2018-11-22', '2018-11-23', '2018-11-24',\n",
       "       '2018-11-25', '2018-11-26', '2018-11-27', '2018-11-28',\n",
       "       '2018-11-29', '2018-11-30', '2018-12-01', '2018-12-02',\n",
       "       '2018-12-03', '2018-12-04', '2018-12-05', '2018-12-06',\n",
       "       '2018-12-07', '2018-12-08', '2018-12-09', '2018-12-10',\n",
       "       '2018-12-11', '2018-12-12', '2018-12-13', '2018-12-14',\n",
       "       '2018-12-15', '2018-12-16', '2018-12-17', '2018-12-18',\n",
       "       '2018-12-19', '2018-12-20', '2018-12-21', '2018-12-22',\n",
       "       '2018-12-23', '2018-12-24', '2018-12-25', '2018-12-26',\n",
       "       '2018-12-27', '2018-12-28', '2018-12-29', '2018-12-30',\n",
       "       '2018-12-31'], dtype=object)"
      ]
     },
     "execution_count": 18,
     "metadata": {},
     "output_type": "execute_result"
    }
   ],
   "source": [
    "df['order_date'].unique()"
   ]
  },
  {
   "cell_type": "markdown",
   "metadata": {},
   "source": [
    "Looks fine, no further action required. Next step: Cleansing!"
   ]
  },
  {
   "cell_type": "code",
   "execution_count": null,
   "metadata": {},
   "outputs": [],
   "source": []
  }
 ],
 "metadata": {
  "kernelspec": {
   "display_name": "Python 3",
   "language": "python",
   "name": "python3"
  },
  "language_info": {
   "codemirror_mode": {
    "name": "ipython",
    "version": 3
   },
   "file_extension": ".py",
   "mimetype": "text/x-python",
   "name": "python",
   "nbconvert_exporter": "python",
   "pygments_lexer": "ipython3",
   "version": "3.7.7"
  }
 },
 "nbformat": 4,
 "nbformat_minor": 4
}
